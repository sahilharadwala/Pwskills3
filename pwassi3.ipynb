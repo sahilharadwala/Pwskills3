{
 "cells": [
  {
   "cell_type": "code",
   "execution_count": 25,
   "id": "638078c1-f777-4d54-ad43-ca58307f617d",
   "metadata": {},
   "outputs": [
    {
     "data": {
      "text/plain": [
       "[('Virat Kohli', 24936),\n",
       " ('Jack Kallis', 25534),\n",
       " (' Ponting', 27483),\n",
       " ('Sachin Tendulkar', 34357)]"
      ]
     },
     "execution_count": 25,
     "metadata": {},
     "output_type": "execute_result"
    }
   ],
   "source": [
    "#Q1. Create a python program to sort the given list of tuples based on integer value using alambda function. \n",
    "\n",
    "\n",
    "sort1=[('Sachin Tendulkar', 34357), (' Ponting', 27483), ('Jack Kallis', 25534), ('Virat Kohli', 24936)]\n",
    "a=sorted(sort1,key= lambda sort1: sort1[1])\n",
    "a"
   ]
  },
  {
   "cell_type": "code",
   "execution_count": 30,
   "id": "14a83403-b9e5-4fa6-ae05-bdaacd044917",
   "metadata": {},
   "outputs": [
    {
     "data": {
      "text/plain": [
       "[1, 4, 9, 16, 25, 36, 49, 64, 81, 100]"
      ]
     },
     "execution_count": 30,
     "metadata": {},
     "output_type": "execute_result"
    }
   ],
   "source": [
    "##Q2. Write a Python Program to find the squares of all the numbers in the given list of integers usinglambda and map functions.\n",
    "l1=[1, 2, 3, 4, 5, 6, 7, 8, 9, 10]\n",
    "s=list(map(lambda x : x**2,l1))\n",
    "s"
   ]
  },
  {
   "cell_type": "code",
   "execution_count": 36,
   "id": "cca0ea38-3e0a-426f-bb18-d886f0cd058d",
   "metadata": {},
   "outputs": [
    {
     "data": {
      "text/plain": [
       "('1', '2', '3', '4', '5', '6', '7', '8', '9', '10')"
      ]
     },
     "execution_count": 36,
     "metadata": {},
     "output_type": "execute_result"
    }
   ],
   "source": [
    "##Q3. Write a python program to convert the given list of integers into a tuple of strings. Use map andlambda functions\n",
    "\n",
    "s=[1, 2, 3, 4, 5, 6, 7, 8, 9, 10]\n",
    "v=tuple(map(str,s))\n",
    "v"
   ]
  },
  {
   "cell_type": "code",
   "execution_count": 52,
   "id": "37bc775a-5c74-48e4-94cb-d9074363b7f0",
   "metadata": {},
   "outputs": [
    {
     "data": {
      "text/plain": [
       "15511210043330985984000000"
      ]
     },
     "execution_count": 52,
     "metadata": {},
     "output_type": "execute_result"
    }
   ],
   "source": [
    "#Q4.  Write a python program using reduce function to compute the product of a list containing numbersfrom 1 to 25.\n",
    "from functools import reduce\n",
    "a=list(range(1,26))\n",
    "v=(reduce(lambda x,y: x*y,a))\n",
    "v"
   ]
  },
  {
   "cell_type": "code",
   "execution_count": 54,
   "id": "acd61993-ace6-4003-9ba1-d07559b871dc",
   "metadata": {},
   "outputs": [
    {
     "data": {
      "text/plain": [
       "[6, 60, 90, 120]"
      ]
     },
     "execution_count": 54,
     "metadata": {},
     "output_type": "execute_result"
    }
   ],
   "source": [
    "# # Q5. Write a python program to filter the numbers in a given list that are divisible by 2 and 3 using the filter function.\n",
    "a=[2, 3, 6, 9, 27, 60, 90, 120, 55, 46]\n",
    "v=list(filter(lambda x : x%2==0 and x%3==0,a))\n",
    "v"
   ]
  },
  {
   "cell_type": "code",
   "execution_count": 57,
   "id": "2e0f2a9f-786f-45e2-918a-d0a44b5edef5",
   "metadata": {},
   "outputs": [
    {
     "data": {
      "text/plain": [
       "['php', 'aba', 'radar', 'level']"
      ]
     },
     "execution_count": 57,
     "metadata": {},
     "output_type": "execute_result"
    }
   ],
   "source": [
    "# Q6. Write a python program to find palindromes in the given list of strings using lambda and filterfunction.\n",
    "\n",
    "a=['python', 'php', 'aba', 'radar', 'level']\n",
    "v=list(filter(lambda x: x==x[::-1],a))\n",
    "v"
   ]
  }
 ],
 "metadata": {
  "kernelspec": {
   "display_name": "Python 3 (ipykernel)",
   "language": "python",
   "name": "python3"
  },
  "language_info": {
   "codemirror_mode": {
    "name": "ipython",
    "version": 3
   },
   "file_extension": ".py",
   "mimetype": "text/x-python",
   "name": "python",
   "nbconvert_exporter": "python",
   "pygments_lexer": "ipython3",
   "version": "3.12.7"
  }
 },
 "nbformat": 4,
 "nbformat_minor": 5
}
